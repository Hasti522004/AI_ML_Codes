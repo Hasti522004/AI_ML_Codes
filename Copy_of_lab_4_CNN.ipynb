{
  "nbformat": 4,
  "nbformat_minor": 0,
  "metadata": {
    "colab": {
      "provenance": [],
      "authorship_tag": "ABX9TyPYlc57vlWUFoh9GX4PI/i+",
      "include_colab_link": true
    },
    "kernelspec": {
      "name": "python3",
      "display_name": "Python 3"
    },
    "language_info": {
      "name": "python"
    }
  },
  "cells": [
    {
      "cell_type": "markdown",
      "metadata": {
        "id": "view-in-github",
        "colab_type": "text"
      },
      "source": [
        "<a href=\"https://colab.research.google.com/github/Hasti522004/AI_ML_Codes/blob/main/Copy_of_lab_4_CNN.ipynb\" target=\"_parent\"><img src=\"https://colab.research.google.com/assets/colab-badge.svg\" alt=\"Open In Colab\"/></a>"
      ]
    },
    {
      "cell_type": "code",
      "execution_count": 2,
      "metadata": {
        "id": "8nlDpDPK1g0V"
      },
      "outputs": [],
      "source": [
        "# transitional variability - same size but position is change then nueral network is not work properly\n",
        "# distance is more or less then also neural network is not prefere - feature map is different\n",
        "# in place of nueral network we can use CNN for Image for solve above Problem"
      ]
    },
    {
      "cell_type": "code",
      "source": [
        "import numpy as np\n",
        "import pandas as pd\n",
        "import matplotlib.pyplot as plt"
      ],
      "metadata": {
        "id": "fzGJzo9-47dC"
      },
      "execution_count": 3,
      "outputs": []
    },
    {
      "cell_type": "code",
      "source": [
        "import keras\n",
        "from keras.datasets import fashion_mnist"
      ],
      "metadata": {
        "id": "W5kTCra-576m"
      },
      "execution_count": 4,
      "outputs": []
    },
    {
      "cell_type": "code",
      "source": [
        "(train_x,train_y),(test_x,test_y) = fashion_mnist.load_data()"
      ],
      "metadata": {
        "id": "DqSPctic6Uin",
        "colab": {
          "base_uri": "https://localhost:8080/"
        },
        "outputId": "0c0c6e0a-cc5b-4e55-a86a-f89d1373bd85"
      },
      "execution_count": 5,
      "outputs": [
        {
          "output_type": "stream",
          "name": "stdout",
          "text": [
            "Downloading data from https://storage.googleapis.com/tensorflow/tf-keras-datasets/train-labels-idx1-ubyte.gz\n",
            "29515/29515 [==============================] - 0s 0us/step\n",
            "Downloading data from https://storage.googleapis.com/tensorflow/tf-keras-datasets/train-images-idx3-ubyte.gz\n",
            "26421880/26421880 [==============================] - 0s 0us/step\n",
            "Downloading data from https://storage.googleapis.com/tensorflow/tf-keras-datasets/t10k-labels-idx1-ubyte.gz\n",
            "5148/5148 [==============================] - 0s 0us/step\n",
            "Downloading data from https://storage.googleapis.com/tensorflow/tf-keras-datasets/t10k-images-idx3-ubyte.gz\n",
            "4422102/4422102 [==============================] - 0s 0us/step\n"
          ]
        }
      ]
    },
    {
      "cell_type": "code",
      "source": [
        "plt.imshow(train_x[0])"
      ],
      "metadata": {
        "colab": {
          "base_uri": "https://localhost:8080/",
          "height": 447
        },
        "id": "GRI8g_Sy6g1E",
        "outputId": "5e207036-6126-422c-b762-f7ad1d3af729"
      },
      "execution_count": 6,
      "outputs": [
        {
          "output_type": "execute_result",
          "data": {
            "text/plain": [
              "<matplotlib.image.AxesImage at 0x7bc629906f20>"
            ]
          },
          "metadata": {},
          "execution_count": 6
        },
        {
          "output_type": "display_data",
          "data": {
            "text/plain": [
              "<Figure size 640x480 with 1 Axes>"
            ],
            "image/png": "[encoded data removed]"
          },
          "metadata": {}
        }
      ]
    },
    {
      "cell_type": "code",
      "source": [
        "train_y[0]"
      ],
      "metadata": {
        "colab": {
          "base_uri": "https://localhost:8080/"
        },
        "id": "WP9k3WPF65X1",
        "outputId": "d7078751-854d-4f38-de03-f639fdb022ae"
      },
      "execution_count": 7,
      "outputs": [
        {
          "output_type": "execute_result",
          "data": {
            "text/plain": [
              "9"
            ]
          },
          "metadata": {},
          "execution_count": 7
        }
      ]
    },
    {
      "cell_type": "code",
      "source": [
        "train_x.shape"
      ],
      "metadata": {
        "colab": {
          "base_uri": "https://localhost:8080/"
        },
        "id": "4ynvSc4t6_aP",
        "outputId": "c09e6d26-04bd-473a-bf3a-6fc48342997b"
      },
      "execution_count": 8,
      "outputs": [
        {
          "output_type": "execute_result",
          "data": {
            "text/plain": [
              "(60000, 28, 28)"
            ]
          },
          "metadata": {},
          "execution_count": 8
        }
      ]
    },
    {
      "cell_type": "code",
      "source": [
        "#preprocessing\n",
        "#resizing to the 3rd dimension of the image\n",
        "train_x = train_x.reshape(-1,28,28,1)\n",
        "test_x = test_x.reshape(-1,28,28,1)"
      ],
      "metadata": {
        "id": "-dpB_2gv7O5j"
      },
      "execution_count": 9,
      "outputs": []
    },
    {
      "cell_type": "code",
      "source": [
        "train_x.shape"
      ],
      "metadata": {
        "colab": {
          "base_uri": "https://localhost:8080/"
        },
        "id": "AMDfpZZd8wNc",
        "outputId": "8a9cea90-6be4-4611-a518-9714a883d590"
      },
      "execution_count": 10,
      "outputs": [
        {
          "output_type": "execute_result",
          "data": {
            "text/plain": [
              "(60000, 28, 28, 1)"
            ]
          },
          "metadata": {},
          "execution_count": 10
        }
      ]
    },
    {
      "cell_type": "code",
      "source": [
        "#normalize the pixel values\n",
        "train_x = train_x.astype('float32')\n",
        "test_x = test_x.astype('float32')\n",
        "train_x = train_x/255\n",
        "test_x = test_x/255"
      ],
      "metadata": {
        "id": "Z41XFsUC9EKL"
      },
      "execution_count": 11,
      "outputs": []
    },
    {
      "cell_type": "code",
      "source": [
        "from tensorflow.keras.utils import to_categorical\n",
        "train_y_onehot = to_categorical(train_y)\n",
        "test_y_onehot = to_categorical(test_y)"
      ],
      "metadata": {
        "id": "udOEUFmE-r1h"
      },
      "execution_count": 12,
      "outputs": []
    },
    {
      "cell_type": "code",
      "source": [
        "#model training\n",
        "from sklearn.model_selection import train_test_split\n",
        "train_x,valid_x,train_y,valid_y = train_test_split(train_x,train_y_onehot,test_size=0.25)"
      ],
      "metadata": {
        "id": "fKl2vDa9_Ue-"
      },
      "execution_count": 13,
      "outputs": []
    },
    {
      "cell_type": "code",
      "source": [
        "print(train_x.shape)\n",
        "print(valid_x.shape)\n"
      ],
      "metadata": {
        "colab": {
          "base_uri": "https://localhost:8080/"
        },
        "id": "hozopFIuATa3",
        "outputId": "a4d175bb-b01b-45a1-84a7-a7797c0c1644"
      },
      "execution_count": 14,
      "outputs": [
        {
          "output_type": "stream",
          "name": "stdout",
          "text": [
            "(45000, 28, 28, 1)\n",
            "(15000, 28, 28, 1)\n"
          ]
        }
      ]
    },
    {
      "cell_type": "code",
      "source": [
        "epochs = 2\n",
        "batch_size = 64\n",
        "num_classes = 10"
      ],
      "metadata": {
        "id": "mWAx6U2kAhQZ"
      },
      "execution_count": 15,
      "outputs": []
    },
    {
      "cell_type": "code",
      "source": [
        "from tensorflow.keras.models import Sequential, Model\n",
        "from tensorflow.keras.layers import Dense,Activation,Flatten,Conv2D,MaxPooling2D,LeakyReLU\n",
        "import tensorflow as tf"
      ],
      "metadata": {
        "id": "HLouPzHdDT8U"
      },
      "execution_count": 16,
      "outputs": []
    },
    {
      "cell_type": "code",
      "source": [
        "model = tf.keras.Sequential()"
      ],
      "metadata": {
        "id": "xS0o7zRsEw-r"
      },
      "execution_count": 17,
      "outputs": []
    },
    {
      "cell_type": "code",
      "source": [
        "#1st Hidden Layers\n",
        "model.add(tf.keras.layers.Conv2D(32,(3,3),activation=\"linear\",padding=\"same\"))\n",
        "model.add(LeakyReLU(0.1)) # 0.1 is a negative slope\n",
        "model.add(MaxPooling2D(pool_size=(2,2)))"
      ],
      "metadata": {
        "id": "npeB9zy-E3U4"
      },
      "execution_count": 18,
      "outputs": []
    },
    {
      "cell_type": "code",
      "source": [
        "#2st Hidden Layers\n",
        "model.add(tf.keras.layers.Conv2D(64,(3,3),activation=\"linear\",padding=\"same\"))\n",
        "model.add(LeakyReLU(0.1)) # 0.1 is a negative slope\n",
        "model.add(MaxPooling2D(pool_size=(2,2)))"
      ],
      "metadata": {
        "id": "PqLpmytDHHxM"
      },
      "execution_count": 19,
      "outputs": []
    },
    {
      "cell_type": "code",
      "source": [
        "#3rd Hidden Layers\n",
        "model.add(tf.keras.layers.Conv2D(128,(3,3),activation=\"linear\",padding=\"same\"))\n",
        "model.add(LeakyReLU(0.1)) # 0.1 is a negative slope\n",
        "model.add(MaxPooling2D(pool_size=(2,2)))"
      ],
      "metadata": {
        "id": "RQsTJxjlHLj8"
      },
      "execution_count": 20,
      "outputs": []
    },
    {
      "cell_type": "code",
      "source": [
        "model.add(tf.keras.layers.Flatten())"
      ],
      "metadata": {
        "id": "AHEsPuJ4HZGr"
      },
      "execution_count": 21,
      "outputs": []
    },
    {
      "cell_type": "code",
      "source": [
        "model.add(tf.keras.layers.Dense(128,))"
      ],
      "metadata": {
        "id": "ZIWfdxqSHwsj"
      },
      "execution_count": 22,
      "outputs": []
    },
    {
      "cell_type": "code",
      "source": [
        "model.add(LeakyReLU(0.1))\n",
        "#output layer --> softmax Activation Function\n",
        "model.add(tf.keras.layers.Dense(num_classes,activation='softmax'))"
      ],
      "metadata": {
        "id": "uVPiX1XTH5RS"
      },
      "execution_count": 23,
      "outputs": []
    },
    {
      "cell_type": "code",
      "source": [
        "model.compile(loss = tf.keras.losses.categorical_crossentropy,optimizer=tf.keras.optimizers.Adam(),metrics = ['accuracy'])"
      ],
      "metadata": {
        "id": "lKLzjE0zIdVh"
      },
      "execution_count": 24,
      "outputs": []
    },
    {
      "cell_type": "code",
      "source": [
        "model_train=model.fit(train_x, train_y, batch_size=64,epochs=20,verbose=1,validation_data=(valid_x, valid_y))"
      ],
      "metadata": {
        "colab": {
          "base_uri": "https://localhost:8080/"
        },
        "id": "njMGns9ti2Bk",
        "outputId": "d2133c18-ee47-4928-8876-4e5677d368f8"
      },
      "execution_count": 25,
      "outputs": [
        {
          "output_type": "stream",
          "name": "stdout",
          "text": [
            "Epoch 1/20\n",
            "704/704 [==============================] - 71s 99ms/step - loss: 0.4854 - accuracy: 0.8221 - val_loss: 0.3643 - val_accuracy: 0.8652\n",
            "Epoch 2/20\n",
            "704/704 [==============================] - 70s 100ms/step - loss: 0.3003 - accuracy: 0.8900 - val_loss: 0.3323 - val_accuracy: 0.8812\n",
            "Epoch 3/20\n",
            "704/704 [==============================] - 72s 102ms/step - loss: 0.2501 - accuracy: 0.9085 - val_loss: 0.2739 - val_accuracy: 0.9013\n",
            "Epoch 4/20\n",
            "704/704 [==============================] - 70s 100ms/step - loss: 0.2205 - accuracy: 0.9187 - val_loss: 0.2609 - val_accuracy: 0.9050\n",
            "Epoch 5/20\n",
            "704/704 [==============================] - 74s 105ms/step - loss: 0.1944 - accuracy: 0.9279 - val_loss: 0.2488 - val_accuracy: 0.9101\n",
            "Epoch 6/20\n",
            "704/704 [==============================] - 76s 108ms/step - loss: 0.1716 - accuracy: 0.9376 - val_loss: 0.2416 - val_accuracy: 0.9134\n",
            "Epoch 7/20\n",
            "704/704 [==============================] - 70s 100ms/step - loss: 0.1487 - accuracy: 0.9448 - val_loss: 0.2455 - val_accuracy: 0.9162\n",
            "Epoch 8/20\n",
            "704/704 [==============================] - 70s 100ms/step - loss: 0.1329 - accuracy: 0.9500 - val_loss: 0.2561 - val_accuracy: 0.9143\n",
            "Epoch 9/20\n",
            "704/704 [==============================] - 70s 99ms/step - loss: 0.1134 - accuracy: 0.9573 - val_loss: 0.2916 - val_accuracy: 0.9108\n",
            "Epoch 10/20\n",
            "704/704 [==============================] - 68s 96ms/step - loss: 0.0993 - accuracy: 0.9628 - val_loss: 0.2567 - val_accuracy: 0.9191\n",
            "Epoch 11/20\n",
            "704/704 [==============================] - 74s 104ms/step - loss: 0.0804 - accuracy: 0.9695 - val_loss: 0.2990 - val_accuracy: 0.9136\n",
            "Epoch 12/20\n",
            "704/704 [==============================] - 69s 99ms/step - loss: 0.0704 - accuracy: 0.9738 - val_loss: 0.3278 - val_accuracy: 0.9132\n",
            "Epoch 13/20\n",
            "704/704 [==============================] - 68s 96ms/step - loss: 0.0636 - accuracy: 0.9758 - val_loss: 0.3394 - val_accuracy: 0.9130\n",
            "Epoch 14/20\n",
            "704/704 [==============================] - 67s 95ms/step - loss: 0.0539 - accuracy: 0.9791 - val_loss: 0.3485 - val_accuracy: 0.9136\n",
            "Epoch 15/20\n",
            "704/704 [==============================] - 74s 105ms/step - loss: 0.0485 - accuracy: 0.9820 - val_loss: 0.3781 - val_accuracy: 0.9149\n",
            "Epoch 16/20\n",
            "704/704 [==============================] - 74s 106ms/step - loss: 0.0446 - accuracy: 0.9833 - val_loss: 0.3762 - val_accuracy: 0.9169\n",
            "Epoch 17/20\n",
            "704/704 [==============================] - 69s 98ms/step - loss: 0.0401 - accuracy: 0.9851 - val_loss: 0.3975 - val_accuracy: 0.9143\n",
            "Epoch 18/20\n",
            "704/704 [==============================] - 74s 105ms/step - loss: 0.0389 - accuracy: 0.9855 - val_loss: 0.4287 - val_accuracy: 0.9164\n",
            "Epoch 19/20\n",
            "704/704 [==============================] - 68s 96ms/step - loss: 0.0346 - accuracy: 0.9872 - val_loss: 0.4287 - val_accuracy: 0.9143\n",
            "Epoch 20/20\n",
            "704/704 [==============================] - 69s 97ms/step - loss: 0.0297 - accuracy: 0.9892 - val_loss: 0.4602 - val_accuracy: 0.9145\n"
          ]
        }
      ]
    },
    {
      "cell_type": "code",
      "source": [
        "model.summary()"
      ],
      "metadata": {
        "colab": {
          "base_uri": "https://localhost:8080/"
        },
        "id": "O9OxJSdri_Hz",
        "outputId": "b96f4856-22e0-43f6-9c10-e1bafcd8ed3c"
      },
      "execution_count": 26,
      "outputs": [
        {
          "output_type": "stream",
          "name": "stdout",
          "text": [
            "Model: \"sequential\"\n",
            "_________________________________________________________________\n",
            " Layer (type)                Output Shape              Param #   \n",
            "=================================================================\n",
            " conv2d (Conv2D)             (None, 28, 28, 32)        320       \n",
            "                                                                 \n",
            " leaky_re_lu (LeakyReLU)     (None, 28, 28, 32)        0         \n",
            "                                                                 \n",
            " max_pooling2d (MaxPooling2  (None, 14, 14, 32)        0         \n",
            " D)                                                              \n",
            "                                                                 \n",
            " conv2d_1 (Conv2D)           (None, 14, 14, 64)        18496     \n",
            "                                                                 \n",
            " leaky_re_lu_1 (LeakyReLU)   (None, 14, 14, 64)        0         \n",
            "                                                                 \n",
            " max_pooling2d_1 (MaxPoolin  (None, 7, 7, 64)          0         \n",
            " g2D)                                                            \n",
            "                                                                 \n",
            " conv2d_2 (Conv2D)           (None, 7, 7, 128)         73856     \n",
            "                                                                 \n",
            " leaky_re_lu_2 (LeakyReLU)   (None, 7, 7, 128)         0         \n",
            "                                                                 \n",
            " max_pooling2d_2 (MaxPoolin  (None, 3, 3, 128)         0         \n",
            " g2D)                                                            \n",
            "                                                                 \n",
            " flatten (Flatten)           (None, 1152)              0         \n",
            "                                                                 \n",
            " dense (Dense)               (None, 128)               147584    \n",
            "                                                                 \n",
            " leaky_re_lu_3 (LeakyReLU)   (None, 128)               0         \n",
            "                                                                 \n",
            " dense_1 (Dense)             (None, 10)                1290      \n",
            "                                                                 \n",
            "=================================================================\n",
            "Total params: 241546 (943.54 KB)\n",
            "Trainable params: 241546 (943.54 KB)\n",
            "Non-trainable params: 0 (0.00 Byte)\n",
            "_________________________________________________________________\n"
          ]
        }
      ]
    },
    {
      "cell_type": "code",
      "source": [
        "test_eval = model.evaluate(test_x, test_y_onehot, verbose=0)\n",
        "print('Test loss:', test_eval[0])\n",
        "print('Test accuracy:', test_eval[1])"
      ],
      "metadata": {
        "colab": {
          "base_uri": "https://localhost:8080/"
        },
        "id": "vzzBW9mtjAPl",
        "outputId": "e924de2c-94f0-4bab-a43b-6016f24eb1b0"
      },
      "execution_count": 27,
      "outputs": [
        {
          "output_type": "stream",
          "name": "stdout",
          "text": [
            "Test loss: 0.47363364696502686\n",
            "Test accuracy: 0.9115999937057495\n"
          ]
        }
      ]
    },
    {
      "cell_type": "code",
      "source": [
        "test_eval = model.evaluate(test_x, test_y_onehot, verbose=0)\n",
        "print('Test loss:', test_eval[0])\n",
        "print('Test accuracy:', test_eval[1])"
      ],
      "metadata": {
        "colab": {
          "base_uri": "https://localhost:8080/"
        },
        "id": "V8628b8HjClj",
        "outputId": "8ebe92ec-877a-4c7d-a2ae-f96d4365a0f5"
      },
      "execution_count": 28,
      "outputs": [
        {
          "output_type": "stream",
          "name": "stdout",
          "text": [
            "Test loss: 0.47363364696502686\n",
            "Test accuracy: 0.9115999937057495\n"
          ]
        }
      ]
    },
    {
      "cell_type": "code",
      "source": [],
      "metadata": {
        "id": "9iJCeuTHjIDd"
      },
      "execution_count": 28,
      "outputs": []
    }
  ]
}